{
  "nbformat": 4,
  "nbformat_minor": 0,
  "metadata": {
    "colab": {
      "provenance": []
    },
    "kernelspec": {
      "name": "python3",
      "display_name": "Python 3"
    },
    "language_info": {
      "name": "python"
    }
  },
  "cells": [
    {
      "cell_type": "markdown",
      "source": [
        "# Смысл программы"
      ],
      "metadata": {
        "id": "rCuNQF61YfwS"
      }
    },
    {
      "cell_type": "markdown",
      "source": [
        "Визуализация генеалогического дерева: парсинг файла на языке Prolog"
      ],
      "metadata": {
        "id": "mTFZvPiAYkO-"
      }
    },
    {
      "cell_type": "markdown",
      "source": [
        "# Библиотеки"
      ],
      "metadata": {
        "id": "69t5DJDcYsTo"
      }
    },
    {
      "cell_type": "code",
      "source": [
        "!pip install graphviz"
      ],
      "metadata": {
        "colab": {
          "base_uri": "https://localhost:8080/"
        },
        "id": "vRtyGjLpR5Fn",
        "outputId": "f2411bed-df04-4135-ef3e-4df7e51d7c6a"
      },
      "execution_count": null,
      "outputs": [
        {
          "output_type": "stream",
          "name": "stdout",
          "text": [
            "Requirement already satisfied: graphviz in /usr/local/lib/python3.10/dist-packages (0.20.3)\n"
          ]
        }
      ]
    },
    {
      "cell_type": "code",
      "source": [
        "import re\n",
        "from collections import defaultdict\n",
        "from graphviz import Digraph"
      ],
      "metadata": {
        "id": "36_28UVrYY0Y"
      },
      "execution_count": null,
      "outputs": []
    },
    {
      "cell_type": "markdown",
      "source": [
        "# Основная часть"
      ],
      "metadata": {
        "id": "t6xGkcARYwLg"
      }
    },
    {
      "cell_type": "code",
      "source": [
        "filename = 'new_family.pl'  # Изначальный файл на языке Prolog\n",
        "save_filename = 'family_tree'  # Сохраняемый файл с генеалогическим деревом\n",
        "save_format = 'png'  # Формат сохраняеемого файла"
      ],
      "metadata": {
        "id": "ukKnRPgYSDgo"
      },
      "execution_count": null,
      "outputs": []
    },
    {
      "cell_type": "markdown",
      "source": [
        "## Парсинг файла на языке Prolog"
      ],
      "metadata": {
        "id": "uKWzjSlCY3UX"
      }
    },
    {
      "cell_type": "code",
      "source": [
        "def read_parent_file(filename):\n",
        "    family_tree = defaultdict(list)\n",
        "    marriages = []\n",
        "    genders = {}  # Словарь для хранения пола\n",
        "\n",
        "    with open(filename, 'r') as file:\n",
        "        for line in file:\n",
        "\n",
        "            # Извлечение x и y из parent(x, y)\n",
        "            parent_match = re.match(r'parent\\((\\w+),\\s*(\\w+)\\)', line.strip())\n",
        "            if parent_match:\n",
        "                parent, child = parent_match.groups()\n",
        "                family_tree[parent].append(child)\n",
        "\n",
        "            # Извлечение x и y из marry(x, y)\n",
        "            marry_match = re.match(r'marry\\((\\w+),\\s*(\\w+)\\)', line.strip())\n",
        "            if marry_match:\n",
        "                spouse1, spouse2 = marry_match.groups()\n",
        "                marriages.append((spouse1, spouse2))\n",
        "\n",
        "            # Извлечение пола\n",
        "            gender_match = re.match(r'man\\((\\w+)\\)', line.strip())\n",
        "            if gender_match:\n",
        "                genders[gender_match.group(1)] = 'male'\n",
        "            else:\n",
        "                gender_match = re.match(r'woman\\((\\w+)\\)', line.strip())\n",
        "                if gender_match:\n",
        "                    genders[gender_match.group(1)] = 'female'\n",
        "\n",
        "    return family_tree, marriages, genders"
      ],
      "metadata": {
        "id": "cykF0w1cZA9A"
      },
      "execution_count": null,
      "outputs": []
    },
    {
      "cell_type": "code",
      "source": [
        "def build_family_tree(family_tree):\n",
        "    all_people = set(family_tree.keys())\n",
        "    all_children = {child for children in family_tree.values() for child in children}\n",
        "\n",
        "    root_people = all_people - all_children\n",
        "\n",
        "    return root_people"
      ],
      "metadata": {
        "id": "odfEQCw4ZKwx"
      },
      "execution_count": null,
      "outputs": []
    },
    {
      "cell_type": "markdown",
      "source": [
        "## Построение графа"
      ],
      "metadata": {
        "id": "bGbhTknjZMo5"
      }
    },
    {
      "cell_type": "code",
      "source": [
        "def draw_family_tree(family_tree, root_people, marriages, genders):\n",
        "    dot = Digraph(comment='Family Tree')\n",
        "\n",
        "    # Добавление супружеских пар в отдельную подгруппу\n",
        "    for spouse1, spouse2 in marriages:\n",
        "        with dot.subgraph() as s:\n",
        "            s.attr(rank='same')  # Все узлы в этой подгруппе будут на одном уровне\n",
        "            s.node(spouse1, shape='doublecircle' if genders.get(spouse1) == 'male' else 'circle')\n",
        "            s.node(spouse2, shape='doublecircle' if genders.get(spouse2) == 'male' else 'circle')\n",
        "            s.edge(spouse1, spouse2, dir='none')  # Ненаправленная связь\n",
        "\n",
        "    for parent, children in family_tree.items():\n",
        "        shape = 'doublecircle' if genders.get(parent) == 'male' else 'circle'  # Определяем форму узла родителя\n",
        "        dot.node(parent, shape=shape)  # Узел-родитель\n",
        "\n",
        "        for child in children:\n",
        "            child_shape = 'doublecircle' if genders.get(child) == 'male' else 'circle'\n",
        "            dot.node(child, shape=child_shape)  # Узел-ребенок\n",
        "            dot.edge(parent, child)  # Связь между родителем и ребенком\n",
        "\n",
        "    # Сохраняем и отображаем граф\n",
        "    dot.render(save_filename, format=save_format, cleanup=True)"
      ],
      "metadata": {
        "id": "h2nySbmjZeQU"
      },
      "execution_count": null,
      "outputs": []
    },
    {
      "cell_type": "markdown",
      "source": [
        "## Запуск"
      ],
      "metadata": {
        "id": "PPnSDMlJaaLi"
      }
    },
    {
      "cell_type": "code",
      "source": [
        "def main():\n",
        "    family_tree, marriages, genders = read_parent_file(filename)\n",
        "    root_people = build_family_tree(family_tree)\n",
        "    draw_family_tree(family_tree, root_people, marriages, genders)\n",
        "    print(f\"Генеалогическое дерево сохранено как {save_filename}.{save_format}\")"
      ],
      "metadata": {
        "colab": {
          "base_uri": "https://localhost:8080/"
        },
        "id": "E96Tyd0rVO0e",
        "outputId": "bac445fe-d695-46cb-9e6e-172f0d4f8a90"
      },
      "execution_count": null,
      "outputs": [
        {
          "output_type": "stream",
          "name": "stdout",
          "text": [
            "Генеалогическое дерево сохранено как 'family_tree.png'.\n"
          ]
        }
      ]
    },
    {
      "cell_type": "code",
      "source": [
        "if __name__ == \"__main__\":\n",
        "    main()"
      ],
      "metadata": {
        "id": "O0YxHzyrZZk7"
      },
      "execution_count": null,
      "outputs": []
    }
  ]
}